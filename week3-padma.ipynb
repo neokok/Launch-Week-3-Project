{
 "cells": [
  {
   "cell_type": "code",
   "execution_count": 25,
   "id": "9c9e678a",
   "metadata": {},
   "outputs": [],
   "source": [
    "# old way\n",
    "# cid = \"\"\n",
    "# secret = ''\n",
    "# client_credentials_manager = SpotifyClientCredentials(client_id=cid, client_secret=secret)\n",
    "# sp = spotipy.Spotify(client_credentials_manager = client_credentials_manager)"
   ]
  },
  {
   "cell_type": "markdown",
   "id": "b1c3a7c3",
   "metadata": {},
   "source": [
    "### Setup + Getting Data"
   ]
  },
  {
   "cell_type": "code",
   "execution_count": 43,
   "id": "32ff2e34",
   "metadata": {},
   "outputs": [],
   "source": [
    "import spotipy\n",
    "from spotipy import Spotify\n",
    "import pandas as pd\n",
    "from spotipy.oauth2 import SpotifyOAuth\n",
    "from spotipy.oauth2 import SpotifyClientCredentials\n",
    "import time\n",
    "from sklearn import model_selection\n",
    "from sklearn.linear_model import LinearRegression\n",
    "from sklearn.model_selection import train_test_split, GridSearchCV\n",
    "import numpy as np\n",
    "import matplotlib.pyplot as plt\n",
    "from sklearn.svm import SVR\n",
    "from sklearn.preprocessing import StandardScaler\n",
    "from sklearn.model_selection import train_test_split\n",
    "from sklearn.metrics import mean_squared_error, r2_score\n",
    "from sklearn import tree\n",
    "import os\n",
    "import matplotlib.pyplot as plt\n",
    "from sklearn.tree import export_graphviz\n",
    "import graphviz\n",
    "from sklearn.preprocessing import LabelEncoder\n",
    "from sklearn.metrics import accuracy_score, precision_score, recall_score, f1_score\n",
    "import shap\n",
    "import matplotlib.colors as mcolors"
   ]
  },
  {
   "cell_type": "code",
   "execution_count": 2,
   "id": "ba3d6f0f",
   "metadata": {},
   "outputs": [],
   "source": [
    "import seaborn as sns"
   ]
  },
  {
   "cell_type": "code",
   "execution_count": 42,
   "id": "ee44af2f",
   "metadata": {},
   "outputs": [],
   "source": [
    "SPOTIPY_CLIENT_ID = '153c4ee8cb004f6e9ad3f2868aa4eb50'\n",
    "SPOTIPY_CLIENT_SECRET = 'e0e79e2171c043509e19fea0abfb81f7'\n",
    "SPOTIPY_REDIRECT_URI = 'http://localhost:3000'\n",
    "\n",
    "if os.path.exists('.cache'):\n",
    "    os.remove('.cache')\n",
    "\n",
    "sp_oauth = SpotifyOAuth(client_id=SPOTIPY_CLIENT_ID,\n",
    "                        client_secret=SPOTIPY_CLIENT_SECRET,\n",
    "                        redirect_uri=SPOTIPY_REDIRECT_URI)"
   ]
  },
  {
   "cell_type": "code",
   "execution_count": 43,
   "id": "630b25b0",
   "metadata": {},
   "outputs": [
    {
     "name": "stderr",
     "output_type": "stream",
     "text": [
      "/var/folders/5z/s5qlt2g95tj4d40cy5ll0pm40000gn/T/ipykernel_57995/1826916927.py:2: DeprecationWarning: You're using 'as_dict = True'.get_access_token will return the token string directly in future versions. Please adjust your code accordingly, or use get_cached_token instead.\n",
      "  token_info = sp_oauth.get_access_token()\n"
     ]
    }
   ],
   "source": [
    "token_info = sp_oauth.get_access_token()\n",
    "access_token = token_info['access_token']\n",
    "\n",
    "sp = Spotify(auth=access_token)"
   ]
  },
  {
   "cell_type": "code",
   "execution_count": null,
   "id": "bdc806d5",
   "metadata": {},
   "outputs": [],
   "source": [
    "tracks = []\n",
    "max_offset = 1000\n",
    "limit = 50\n",
    "for i in range(0, max_offset, limit):\n",
    "    time.sleep(10)\n",
    "    track_results = sp.search(q='year:2016', type='track', limit=limit, offset=i, market='US')\n",
    "    tracks.extend(track_results['tracks']['items'])\n",
    "    \n",
    "# by popularity \n",
    "tracks = sorted(tracks, key=lambda x: x['popularity'], reverse=True)\n",
    "            \n",
    "top_tracks = tracks[:1000]\n",
    "\n",
    "data = {\n",
    "    'artist_name': [],\n",
    "    'track_name': [],\n",
    "    'track_id': [],\n",
    "    'popularity': [],\n",
    "    'album_name': [],\n",
    "    'album_id': [],\n",
    "    'album_release_date': [],\n",
    "    'album_type': [],\n",
    "    'album_cover_url': [],\n",
    "    'track_duration_ms': [],\n",
    "    'explicit': [],\n",
    "    'track_number': [],\n",
    "    'disc_number': [],\n",
    "    'track_preview_url': [],\n",
    "    'track_uri': [],\n",
    "    'danceability': [],\n",
    "    'energy': [],\n",
    "    'key': [],\n",
    "    'loudness': [],\n",
    "    'mode': [],\n",
    "    'speechiness': [],\n",
    "    'acousticness': [],\n",
    "    'instrumentalness': [],\n",
    "    'liveness': [],\n",
    "    'valence': [],\n",
    "    'tempo': [],\n",
    "    'artist_id': [],\n",
    "    'artist_uri': [],\n",
    "    'artist_genres': [],\n",
    "    'artist_popularity': []\n",
    "}\n",
    "\n",
    "for t in top_tracks:\n",
    "    track_id = t['id']\n",
    "    artist_id = t['artists'][0]['id']\n",
    "    audio_features = sp.audio_features(track_id)\n",
    "    if None not in audio_features and len(audio_features) > 0:  # Check if audio_features is not empty\n",
    "        audio_features = audio_features[0]  \n",
    "        artist_info = sp.artist(artist_id)\n",
    "        data['artist_name'].append(t['artists'][0]['name'])\n",
    "        data['track_name'].append(t['name'])\n",
    "        data['track_id'].append(track_id)\n",
    "        data['popularity'].append(t['popularity'])\n",
    "        data['album_name'].append(t['album']['name'])\n",
    "        data['album_id'].append(t['album']['id'])\n",
    "        data['album_release_date'].append(t['album']['release_date'])\n",
    "        data['album_type'].append(t['album']['album_type'])\n",
    "        # data['album_cover_url'].append(t['album']['images'][0]['url'])\n",
    "        data['track_duration_ms'].append(t['duration_ms'])\n",
    "        data['explicit'].append(t['explicit'])\n",
    "        data['track_number'].append(t['track_number'])\n",
    "        data['disc_number'].append(t['disc_number'])\n",
    "        # data['track_preview_url'].append(t['preview_url'])\n",
    "        # data['track_uri'].append(t['uri'])\n",
    "        data['danceability'].append(audio_features['danceability'])\n",
    "        data['energy'].append(audio_features['energy'])\n",
    "        data['key'].append(audio_features['key'])\n",
    "        data['loudness'].append(audio_features['loudness'])\n",
    "        data['mode'].append(audio_features['mode'])\n",
    "        data['speechiness'].append(audio_features['speechiness'])\n",
    "        data['acousticness'].append(audio_features['acousticness'])\n",
    "        data['instrumentalness'].append(audio_features['instrumentalness'])\n",
    "        data['liveness'].append(audio_features['liveness'])\n",
    "        data['valence'].append(audio_features['valence'])\n",
    "        data['tempo'].append(audio_features['tempo'])\n",
    "        data['artist_id'].append(artist_id)\n",
    "        data['artist_uri'].append(t['artists'][0]['uri'])\n",
    "        data['artist_genres'].append(artist_info['genres'])\n",
    "        data['artist_popularity'].append(artist_info['popularity'])\n",
    "    else:\n",
    "        # if None or empty\n",
    "        print('No audio features found for track')\n",
    "   \n",
    "\n",
    "df = pd.DataFrame(data)\n",
    "print(df.head())"
   ]
  },
  {
   "cell_type": "code",
   "execution_count": 48,
   "id": "782246e0",
   "metadata": {},
   "outputs": [],
   "source": [
    "# if length mismatch\n",
    "lengths = {key: len(value) for key, value in data.items()}\n",
    "# print(lengths)\n",
    "keys_to_remove = ['album_cover_url', 'track_preview_url', 'track_uri']\n",
    "filtered_data = {key: value for key, value in data.items() if key not in keys_to_remove}\n",
    "lengths2 = {key: len(value) for key, value in filtered_data.items()}"
   ]
  },
  {
   "cell_type": "code",
   "execution_count": 51,
   "id": "4229e469",
   "metadata": {},
   "outputs": [],
   "source": [
    "#df_2016.to_csv('tracks2016.csv')"
   ]
  },
  {
   "cell_type": "markdown",
   "id": "3e02078e",
   "metadata": {},
   "source": [
    "### after they've been sent to csv"
   ]
  },
  {
   "cell_type": "code",
   "execution_count": 4,
   "id": "1544df10",
   "metadata": {},
   "outputs": [],
   "source": [
    "df_2016 = pd.read_csv(\"tracks2016.csv\")\n",
    "df_2016['Year'] = 2016\n",
    "\n",
    "df_2017 = pd.read_csv(\"tracks2017.csv\")\n",
    "df_2017['Year'] = 2017\n",
    "\n",
    "df_2018 = pd.read_csv(\"tracks2018.csv\")\n",
    "df_2018['Year'] = 2018\n",
    "\n",
    "df_2019 = pd.read_csv(\"tracks2019.csv\")\n",
    "df_2019['Year'] = 2019\n",
    "\n",
    "\n",
    "df_2020 = pd.read_csv(\"tracks2020.csv\")\n",
    "df_2020['Year'] = 2020\n",
    "\n",
    "df_2021 = pd.read_csv(\"tracks2021.csv\")\n",
    "df_2021['Year'] = 2021\n",
    "\n",
    "df_2022 = pd.read_csv(\"tracks2022.csv\")\n",
    "df_2022['Year'] = 2022\n",
    "\n",
    "\n",
    "df_all = pd.concat([df_2016, df_2017, df_2018, df_2019, df_2020, df_2021, df_2022])\n",
    "\n",
    "columns_to_remove = ['Unnamed: 0', 'album_cover_url', 'track_preview_url', 'track_uri', 'artist_uri', 'artist_id', 'track_id', 'album_id']\n",
    "df_all.drop(columns=columns_to_remove, inplace=True, errors='ignore')"
   ]
  },
  {
   "cell_type": "code",
   "execution_count": 67,
   "id": "05f05ade",
   "metadata": {},
   "outputs": [],
   "source": [
    "#df_all.sort_values(by='popularity', ascending=False)"
   ]
  },
  {
   "cell_type": "code",
   "execution_count": 68,
   "id": "24b0aa2d",
   "metadata": {},
   "outputs": [],
   "source": [
    "#plt.hist(df_all['artist_genres'], bins=30)"
   ]
  },
  {
   "cell_type": "markdown",
   "id": "bdf87dc4",
   "metadata": {},
   "source": [
    "### ML MODELS"
   ]
  },
  {
   "cell_type": "code",
   "execution_count": 7,
   "id": "cd38709b",
   "metadata": {},
   "outputs": [],
   "source": [
    "X = df_all[[\"loudness\", \"energy\", \"speechiness\", \"tempo\", \"instrumentalness\", \"acousticness\", \"key\", \"liveness\", \"valence\"]]\n",
    "y = df_all['danceability']"
   ]
  },
  {
   "cell_type": "code",
   "execution_count": 8,
   "id": "2c3a07ad",
   "metadata": {},
   "outputs": [],
   "source": [
    "X_train, X_test, y_train, y_test = train_test_split(X, y, test_size=0.2, random_state=2)"
   ]
  },
  {
   "cell_type": "markdown",
   "id": "be15833a",
   "metadata": {},
   "source": [
    "### LINEAR"
   ]
  },
  {
   "cell_type": "code",
   "execution_count": 66,
   "id": "60e850d7",
   "metadata": {},
   "outputs": [
    {
     "data": {
      "text/plain": [
       "0.46642847678069577"
      ]
     },
     "execution_count": 66,
     "metadata": {},
     "output_type": "execute_result"
    }
   ],
   "source": [
    "reg = LinearRegression().fit(X_train, y_train)\n",
    "reg.score(X_test, y_test)"
   ]
  },
  {
   "cell_type": "markdown",
   "id": "095a4ed8",
   "metadata": {},
   "source": [
    "### SVR"
   ]
  },
  {
   "cell_type": "code",
   "execution_count": 71,
   "id": "75994f11",
   "metadata": {},
   "outputs": [],
   "source": [
    "X = df_all[[\"loudness\", \"energy\", \"speechiness\", \"tempo\", \"instrumentalness\", \"acousticness\", \"key\", \"liveness\", \"valence\"]]\n",
    "y = df_all['danceability']\n",
    "X_train, X_test, y_train, y_test = train_test_split(X, y, test_size=0.2, random_state=2)\n",
    "\n",
    "scaler_X = StandardScaler()\n",
    "scaler_y = StandardScaler()\n",
    "y_train = y_train.to_numpy()\n",
    "y_test = y_test.to_numpy()\n",
    "\n",
    "X_train_scaled = scaler_X.fit_transform(X_train)\n",
    "X_test_scaled = scaler_X.transform(X_test)\n",
    "y_train_scaled = scaler_y.fit_transform(y_train.reshape(-1, 1)).ravel()"
   ]
  },
  {
   "cell_type": "code",
   "execution_count": 72,
   "id": "ed8784ee",
   "metadata": {},
   "outputs": [],
   "source": [
    "param_grid = {\n",
    "    'C': [1, 10, 100, 1000],\n",
    "    'gamma': [0.001, 0.01, 0.1, 1],\n",
    "    'epsilon': [0.01, 0.1, 0.2, 0.5],\n",
    "    'kernel': ['rbf']\n",
    "}"
   ]
  },
  {
   "cell_type": "code",
   "execution_count": 73,
   "id": "71e8928c",
   "metadata": {},
   "outputs": [
    {
     "name": "stdout",
     "output_type": "stream",
     "text": [
      "Best parameters found:  {'C': 1, 'epsilon': 0.2, 'gamma': 0.1, 'kernel': 'rbf'}\n"
     ]
    }
   ],
   "source": [
    "grid_search = GridSearchCV(SVR(), param_grid, cv=5, scoring='neg_root_mean_squared_error')\n",
    "grid_search.fit(X_train_scaled, y_train_scaled)\n",
    "print(\"Best parameters found: \", grid_search.best_params_)"
   ]
  },
  {
   "cell_type": "code",
   "execution_count": 74,
   "id": "16e1ba16",
   "metadata": {},
   "outputs": [],
   "source": [
    "#have grid search results now, CV Visual:"
   ]
  },
  {
   "cell_type": "code",
   "execution_count": 75,
   "id": "71aa2431",
   "metadata": {},
   "outputs": [],
   "source": [
    "# pivot table for the heatmap\n",
    "cv_results_df = pd.DataFrame(grid_search.cv_results_)\n",
    "\n",
    "# only when epsilon = 0.2\n",
    "df_filtered = cv_results_df[cv_results_df.apply(lambda row: row['params']['epsilon'] == 0.2, axis=1)]"
   ]
  },
  {
   "cell_type": "code",
   "execution_count": 77,
   "id": "bf424353",
   "metadata": {},
   "outputs": [
    {
     "name": "stderr",
     "output_type": "stream",
     "text": [
      "/Users/padmadanturty/opt/anaconda3/lib/python3.9/site-packages/pandas/core/algorithms.py:798: FutureWarning: In a future version, the Index constructor will not infer numeric dtypes when passed object-dtype sequences (matching Series behavior)\n",
      "  uniques = Index(uniques)\n"
     ]
    },
    {
     "data": {
      "image/png": "[encoded data removed]",
      "text/plain": [
       "<Figure size 720x576 with 2 Axes>"
      ]
     },
     "metadata": {
      "needs_background": "light"
     },
     "output_type": "display_data"
    }
   ],
   "source": [
    "pivot_table = df_filtered.pivot('param_C', 'param_gamma', 'mean_test_score')\n",
    "\n",
    "# RMSE to positive for the heatmap\n",
    "pivot_table = -pivot_table\n",
    "\n",
    "plt.figure(figsize=(10, 8))\n",
    "cmap = sns.color_palette(\"ch:start=.2,rot=-.3\", as_cmap=True)\n",
    "\n",
    "sns.heatmap(pivot_table, annot=True, fmt=\".3f\", cmap = cmap,\n",
    "            annot_kws={\"size\": 20},  \n",
    "            cbar_kws={\"label\": \"RMSE\"})  \n",
    "\n",
    "plt.xlabel('Gamma',  fontsize=17)\n",
    "plt.ylabel('C', fontsize=17)\n",
    "plt.title('Grid Search Heatmap rbf Kernel', fontsize=17)\n",
    "\n",
    "plt.xticks(fontsize=15) \n",
    "plt.yticks(fontsize=15)  \n",
    "plt.show()"
   ]
  },
  {
   "cell_type": "code",
   "execution_count": 61,
   "id": "d4e43953",
   "metadata": {},
   "outputs": [
    {
     "data": {
      "text/plain": [
       "SVR(C=1, epsilon=0.2, gamma=0.1)"
      ]
     },
     "execution_count": 61,
     "metadata": {},
     "output_type": "execute_result"
    }
   ],
   "source": [
    "# ACTUAL SVR model\n",
    "# svr_rbf = SVR(kernel='rbf', C=1, gamma=0.1, epsilon=0.1)\n",
    "# svr_rbf.fit(X_train_scaled, y_train_scaled)\n",
    "\n",
    "best_svr = grid_search.best_estimator_\n",
    "best_svr.fit(X_train_scaled, y_train_scaled)"
   ]
  },
  {
   "cell_type": "code",
   "execution_count": 62,
   "id": "4fcc8eb2",
   "metadata": {},
   "outputs": [],
   "source": [
    "#predictions\n",
    "y_pred_scaled = best_svr.predict(X_test_scaled)\n",
    "y_pred = scaler_y.inverse_transform(y_pred_scaled.reshape(-1, 1)).ravel()"
   ]
  },
  {
   "cell_type": "code",
   "execution_count": 63,
   "id": "3475b0a8",
   "metadata": {},
   "outputs": [
    {
     "name": "stdout",
     "output_type": "stream",
     "text": [
      "Mean Squared Error:  0.017009446577593863\n",
      "Root Mean Squared Error:  0.13042026904432402\n",
      "R^2 Score: 0.6471389783425492\n"
     ]
    }
   ],
   "source": [
    "# scores\n",
    "mse = mean_squared_error(y_test, y_pred)\n",
    "r2 = r2_score(y_test, y_pred)\n",
    "\n",
    "print(\"Mean Squared Error: \", mse)\n",
    "print(\"Root Mean Squared Error: \", np.sqrt(mse))\n",
    "print(f\"R^2 Score: {r2}\")\n",
    "\n",
    "n = len(y_test)\n",
    "p = X_test.shape[1]\n",
    "# Adjusted R-squared\n",
    "adjusted_r2 = 1 - (1 - r2) * (n - 1) / (n - p - 1)\n",
    "print(adjusted_r2)"
   ]
  },
  {
   "cell_type": "markdown",
   "id": "148ee13f",
   "metadata": {},
   "source": [
    "### decision tree"
   ]
  },
  {
   "cell_type": "code",
   "execution_count": null,
   "id": "962b0337",
   "metadata": {},
   "outputs": [],
   "source": [
    "X = df_all.drop(columns=['explicit', 'track_name', 'mode','artist_name', 'album_name', 'album_release_date', 'album_type', 'artist_genres', 'artist_popularity', 'popularity', 'track_number', 'disc_number'])\n",
    "X = X.drop(columns=['track_duration_ms', 'Year'])\n",
    "y = df_all['explicit']"
   ]
  },
  {
   "cell_type": "code",
   "execution_count": 128,
   "id": "3909f49d",
   "metadata": {},
   "outputs": [],
   "source": [
    "X_train, X_test, y_train, y_test = train_test_split(X, y, test_size=0.2, random_state=2)"
   ]
  },
  {
   "cell_type": "code",
   "execution_count": 129,
   "id": "306774e8",
   "metadata": {},
   "outputs": [],
   "source": [
    "y_test = y_test.to_numpy()\n",
    "y_test = y_test.reshape(-1, 1)\n",
    "\n",
    "clf = tree.DecisionTreeClassifier(criterion='entropy')\n",
    "\n",
    "\n",
    "clf = clf.fit(X_train, y_train)\n",
    "\n",
    "y_pred = clf.predict(X_test)"
   ]
  },
  {
   "cell_type": "code",
   "execution_count": 130,
   "id": "7430a005",
   "metadata": {},
   "outputs": [
    {
     "data": {
      "text/plain": [
       "0.8968481375358166"
      ]
     },
     "execution_count": 130,
     "metadata": {},
     "output_type": "execute_result"
    }
   ],
   "source": [
    "clf.score(X_test, y_test, sample_weight=None)"
   ]
  },
  {
   "cell_type": "code",
   "execution_count": 131,
   "id": "e4655cb7",
   "metadata": {},
   "outputs": [],
   "source": [
    "y_pred = clf.predict(X_test)\n",
    "accuracy = accuracy_score(y_test, y_pred)\n",
    "precision = precision_score(y_test, y_pred)\n",
    "recall = recall_score(y_test, y_pred)\n",
    "f1 = f1_score(y_test, y_pred)"
   ]
  },
  {
   "cell_type": "code",
   "execution_count": 106,
   "id": "139ef992",
   "metadata": {},
   "outputs": [
    {
     "name": "stdout",
     "output_type": "stream",
     "text": [
      "Accuracy: 0.9011461318051576\n",
      "Precision: 0.5523255813953488\n",
      "Recall: 0.6089743589743589\n",
      "F1-score: 0.5792682926829268\n"
     ]
    }
   ],
   "source": [
    "print(\"Accuracy:\", accuracy)\n",
    "print(\"Precision:\", precision)\n",
    "print(\"Recall:\", recall)\n",
    "print(\"F1-score:\", f1)"
   ]
  },
  {
   "cell_type": "code",
   "execution_count": 78,
   "id": "66e80bf6",
   "metadata": {},
   "outputs": [],
   "source": [
    "# plt.figure(figsize=(25,15))\n",
    "# tree.plot_tree(clf, feature_names=X.columns, class_names=['False', 'True'], filled=True, rounded=True, fontsize=8)\n",
    "# plt.show()"
   ]
  },
  {
   "cell_type": "code",
   "execution_count": null,
   "id": "9f3d972b",
   "metadata": {},
   "outputs": [],
   "source": [
    "#better colors\n",
    "colors = ['#3fa8f4', '#ff7bab']\n",
    "\n",
    "\n",
    "plt.figure(figsize=(25,15))\n",
    "artists = tree.plot_tree(clf, feature_names=X.columns, class_names=['False', 'True'], \n",
    "                         filled=True, rounded=True, fontsize=8)\n",
    "\n",
    "for artist, impurity, value in zip(artists, clf.tree_.impurity, clf.tree_.value):\n",
    "    r, g, b = to_rgb(colors[np.argmax(value)])\n",
    "    use = r, g, b * value[0][np.argmax(value)] / (value[0][1] + value[0][0])\n",
    "\n",
    "    artist.get_bbox_patch().set_facecolor((use))\n",
    "    artist.get_bbox_patch().set_edgecolor('black')\n",
    "\n",
    "#plt.tight_layout()\n",
    "plt.show()"
   ]
  },
  {
   "cell_type": "code",
   "execution_count": null,
   "id": "4b2af081",
   "metadata": {},
   "outputs": [],
   "source": [
    "#PRUNED TREE\n",
    "\n",
    "clf2 = tree.DecisionTreeClassifier(criterion='entropy', min_samples_split=200, min_samples_leaf=200)\n",
    "\n",
    "colors = ['#3fa8f4', '#aa93d0']\n",
    "\n",
    "clf2 = clf2.fit(X_train, y_train)\n",
    "\n",
    "\n",
    "plt.figure(figsize=(25,15))\n",
    "artists = tree.plot_tree(clf2, feature_names=X.columns, class_names=['False', 'True'], \n",
    "                         filled=True, rounded=True, fontsize=14)\n",
    "\n",
    "for artist, impurity, value in zip(artists, clf2.tree_.impurity, clf2.tree_.value):\n",
    "    r, g, b = to_rgb(colors[np.argmax(value)])\n",
    "    use = r, g, b * value[0][np.argmax(value)] / (value[0][1] + value[0][0])\n",
    "\n",
    "    artist.get_bbox_patch().set_facecolor((use))\n",
    "    artist.get_bbox_patch().set_edgecolor('black')\n",
    "\n",
    "#plt.tight_layout()\n",
    "plt.show()"
   ]
  },
  {
   "cell_type": "code",
   "execution_count": null,
   "id": "d5a7da5a",
   "metadata": {},
   "outputs": [],
   "source": [
    "clf2.score(X_test, y_test, sample_weight=None)"
   ]
  },
  {
   "cell_type": "code",
   "execution_count": null,
   "id": "19aa5983",
   "metadata": {},
   "outputs": [],
   "source": [
    "y_pred2 = clf2.predict(X_test)\n",
    "accuracy = accuracy_score(y_test, y_pred2)\n",
    "precision = precision_score(y_test, y_pred2)\n",
    "recall = recall_score(y_test, y_pred2)\n",
    "f1 = f1_score(y_test, y_pred2)\n",
    "print(\"Accuracy:\", accuracy)\n",
    "print(\"Precision:\", precision)\n",
    "print(\"Recall:\", recall)\n",
    "print(\"F1-score:\", f1)"
   ]
  }
 ],
 "metadata": {
  "kernelspec": {
   "display_name": "Python 3 (ipykernel)",
   "language": "python",
   "name": "python3"
  },
  "language_info": {
   "codemirror_mode": {
    "name": "ipython",
    "version": 3
   },
   "file_extension": ".py",
   "mimetype": "text/x-python",
   "name": "python",
   "nbconvert_exporter": "python",
   "pygments_lexer": "ipython3",
   "version": "3.9.12"
  }
 },
 "nbformat": 4,
 "nbformat_minor": 5
}
